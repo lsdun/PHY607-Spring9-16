{
 "cells": [
  {
   "cell_type": "code",
   "execution_count": null,
   "metadata": {},
   "outputs": [],
   "source": [
    "# Import packages\n",
    "\n",
    "import os\n",
    "import numpy as np\n",
    "import math as math\n",
    "from matplotlib import pyplot as plt"
   ]
  },
  {
   "cell_type": "code",
   "execution_count": null,
   "metadata": {},
   "outputs": [],
   "source": [
    "# Define constants:\n",
    "m = 1 # mass\n",
    "k = 1 # spring constant\n",
    "timestep = 0.01\n",
    "nsteps = 2000 # max number of steps\n",
    "\n",
    "# Define initial conditions:\n",
    "x_0 = 0 # initial x condition\n",
    "y_0 = 200 # initial y condition\n",
    "vx_0 = 10 # initial velocity in x-direction\n",
    "vy_0 = 0 # initial velocity in y-direction"
   ]
  }
 ],
 "metadata": {
  "language_info": {
   "name": "python"
  }
 },
 "nbformat": 4,
 "nbformat_minor": 2
}
