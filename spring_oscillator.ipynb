{
 "cells": [
  {
   "cell_type": "code",
   "execution_count": 5,
   "metadata": {},
   "outputs": [],
   "source": [
    "# Import packages\n",
    "\n",
    "import os\n",
    "import numpy as np\n",
    "import math as math\n",
    "from matplotlib import pyplot as plt"
   ]
  },
  {
   "cell_type": "code",
   "execution_count": 6,
   "metadata": {},
   "outputs": [],
   "source": [
    "# Define constants:\n",
    "m = 1 # mass\n",
    "k = 1 # spring constant\n",
    "dt = 0.05\n",
    "nsteps = 200 # max number of steps\n",
    "\n",
    "# Define initial conditions:\n",
    "x_0 = 0.5 # initial displacement\n",
    "v_0 = 0 # initial velocity\n"
   ]
  },
  {
   "cell_type": "code",
   "execution_count": 7,
   "metadata": {},
   "outputs": [],
   "source": [
    "# values for plot\n",
    "t_vals = np.zeros(nsteps)\n",
    "\n",
    "# for explicit\n",
    "x_exp = np.zeros(nsteps)\n",
    "x_exp[0] = x_0 # set initial value\n",
    "v_exp = np.zeros(nsteps)\n",
    "v_exp[0] = v_0 # set initial value\n",
    "\n",
    "# for symplectic\n",
    "x_symp = np.zeros(nsteps)\n",
    "x_symp[0] = x_0 # set initial value\n",
    "v_symp = np.zeros(nsteps)\n",
    "v_symp[0] = v_0 # set initial value\n"
   ]
  },
  {
   "cell_type": "code",
   "execution_count": 8,
   "metadata": {},
   "outputs": [],
   "source": [
    "# to calculate total energy, use E = T + U\n",
    "def energy(x_vals, v_vals):\n",
    "    T = 0.5 * m * v_vals**2\n",
    "    U = 0.5 * k * x_vals**2\n",
    "    return T + U\n",
    "\n",
    "# now use Euler's method to obtain position and velocity values \n",
    "# F = ma = -kx\n",
    "# acceleration: a = -(k/m)*x\n",
    "# velocity = v0 + at\n",
    "# position = x0 + vt"
   ]
  },
  {
   "cell_type": "code",
   "execution_count": 9,
   "metadata": {},
   "outputs": [],
   "source": [
    "# explicit method:\n",
    "# v_(n+1) = v_n + a*dt\n",
    "# x_(n+1) = x_n + v_*dt\n",
    "def euler_exp():\n",
    "    for i in range(nsteps-1):\n",
    "        a = -(k/m) * x_exp[i] # define acceleration from force equation\n",
    "        v_exp[i+1] = v_exp[i] + a*dt\n",
    "        x_exp[i+1] = x_exp[i] + v_exp[i]*dt\n",
    "        t_vals[i+1] = t_vals[i] + dt"
   ]
  }
 ],
 "metadata": {
  "kernelspec": {
   "display_name": "base",
   "language": "python",
   "name": "python3"
  },
  "language_info": {
   "codemirror_mode": {
    "name": "ipython",
    "version": 3
   },
   "file_extension": ".py",
   "mimetype": "text/x-python",
   "name": "python",
   "nbconvert_exporter": "python",
   "pygments_lexer": "ipython3",
   "version": "3.12.7"
  }
 },
 "nbformat": 4,
 "nbformat_minor": 2
}
